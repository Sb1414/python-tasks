{
 "cells": [
  {
   "cell_type": "markdown",
   "metadata": {},
   "source": [
    "# Jupyter Notebook"
   ]
  },
  {
   "cell_type": "markdown",
   "metadata": {},
   "source": [
    "## Задание 1\n",
    "\n",
    "Напишите скрипт, который считывает строку с клавиатуры. Выведите на экран \"привет\", если введенная строка совпадает со строкой \"привет\" или \"здравствуйте\". Правильность решения можно проверить в контесте в задаче Синтаксис. Ввод и вывод данных."
   ]
  },
  {
   "cell_type": "code",
   "execution_count": null,
   "metadata": {},
   "outputs": [],
   "source": [
    "string = str(input())\n",
    "if (string == 'привет' or\n",
    "\tstring == 'здравствуйте'):\n",
    "    print('привет')\n",
    "\n"
   ]
  },
  {
   "cell_type": "markdown",
   "metadata": {},
   "source": [
    "# Задание 2\n",
    "\n",
    "Написать скрипт, который считывает с клавиатуры числа, складывает только четные и выводит результат на экран. Правильность решения можете проверить в контесте в задаче Синтаксис. Сложение четных чисел."
   ]
  },
  {
   "cell_type": "code",
   "execution_count": null,
   "metadata": {},
   "outputs": [],
   "source": [
    "num = 0\n",
    "count = 0\n",
    "integer = 0\n",
    "\n",
    "while integer != '': \n",
    "    integer = input()\n",
    "    try:\n",
    "        if int(integer) % 2 == 0:\n",
    "            num += int(integer)\n",
    "            count+=1\n",
    "    except ValueError:\n",
    "        pass\n",
    "\n",
    "if count == 0:\n",
    "    print(0)\n",
    "else:\n",
    "    print(num)"
   ]
  },
  {
   "cell_type": "markdown",
   "metadata": {},
   "source": [
    "# Задание 3\n",
    "\n",
    "С клавиатуры вводится строка. В строке заменить пробелы звездочкой. Если встречается подряд несколько пробелов, то их следует заменить одним знаком \"*\". Пробелы в начале и конце строки удалить. Проверить правильность выполнения задания можно в контесте в задаче Строки. Замена символов."
   ]
  },
  {
   "cell_type": "code",
   "execution_count": null,
   "metadata": {},
   "outputs": [],
   "source": [
    "string = input()\n",
    "\n",
    "newString = ' '.join(string.split())\n",
    "newString = newString.replace(' ', '*')\n",
    "\n",
    "print(newString)"
   ]
  },
  {
   "cell_type": "markdown",
   "metadata": {},
   "source": [
    "## Задание 4\n",
    "\n",
    "С клавиатуры вводится строка, а затем - подстрока. В строке найти все слова, в которых содержится заданная подстрока, и вывести эти слова целиком. Если слова повторяются, вывести все повторения. Проверить правильность решения можно в контесте в задаче Строки. Поиск подстрок."
   ]
  },
  {
   "cell_type": "code",
   "execution_count": null,
   "metadata": {},
   "outputs": [],
   "source": [
    "string = input().split()\n",
    "substring = input()\n",
    "\n",
    "lowerSubstr = substring.lower()\n",
    "for word in string:\n",
    "    if lowerSubstr in word.lower():\n",
    "        print(word)"
   ]
  },
  {
   "cell_type": "markdown",
   "metadata": {},
   "source": [
    "## Задание 5\n",
    "\n",
    "С клавиатуры подается 5 чисел, разделенных концом строки. Нужно вывести их на экран от большего к меньшему, также разделяя их концом строки. Оценить правильность решения вы можете в контесте в задаче Коллекции. Списки"
   ]
  },
  {
   "cell_type": "code",
   "execution_count": null,
   "metadata": {},
   "outputs": [],
   "source": [
    "a = []\n",
    "\n",
    "for i in range(5):\n",
    "    a.append(int(input()))\n",
    "\n",
    "a.sort(reverse = True)\n",
    "\n",
    "for i in range(5):\n",
    "    print(a[i])"
   ]
  },
  {
   "cell_type": "markdown",
   "metadata": {},
   "source": [
    "## Задание 6\n",
    "\n",
    "С клавиатуры строка, содержащая произвольное количество слов через запятую и пробел. Слова могут повторяться. Нужно вывести на экран все уникальные слова в алфавитном порядке, также через пробел и запятую. Оценить правильность решения вы можете в контесте в задаче Коллекции. Множества"
   ]
  },
  {
   "cell_type": "code",
   "execution_count": null,
   "metadata": {},
   "outputs": [],
   "source": [
    "str_1 = input().split(\", \")\n",
    "sting = \"\"\n",
    "new_li = [x.lower() for x in str_1]\n",
    "my_set = set(new_li)\n",
    "sorted_set = sorted(my_set)\n",
    "for x in sorted_set:\n",
    "    sting += x + \", \"\n",
    "\n",
    "string = str(sting)\n",
    "index = len(string)\n",
    "s = string[:index-2]\n",
    "print(s)"
   ]
  },
  {
   "cell_type": "markdown",
   "metadata": {},
   "source": [
    "## Задание 7\n",
    "\n",
    "С клавиатуры вводятся слова через запятую с пробелом. Выведите на экран три наиболее часто встречаемых слова, вместе с количеством этих слов. Количество должно быть отделено от слова двоеточием и пробелом. Каждая пара слово-количество должна быть выведена на отдельной строчке. Для простоты гарантируется, что в строке нет слов с одинаковой встречаемостью. Проверить свое решение вы можете в контесте в задаче Коллекции. Словари"
   ]
  },
  {
   "cell_type": "code",
   "execution_count": null,
   "metadata": {},
   "outputs": [],
   "source": [
    "count = 0\n",
    "\n",
    "slovo = input().split(\", \")\n",
    "copy = [\"a\", \"b\", \"c\"]\n",
    "number = [0, 0, 0]\n",
    "flag = True\n",
    "for i in range(0, len(slovo)):\n",
    "    count = 1\n",
    "    j = 0\n",
    "    for k in range(i + 1, len(slovo)):\n",
    "        if slovo[i] == slovo[k]:\n",
    "            count += 1\n",
    "    if copy[j] != slovo[i]:\n",
    "        if number[j] < count:\n",
    "            copy[j + 2] = copy[j + 1]\n",
    "            copy[j + 1] = copy[j]\n",
    "            copy[j] = slovo[i]\n",
    "            number[j+2] = number[j+1]\n",
    "            number[j+1] = number[j]\n",
    "            number[j] = count\n",
    "        elif number[j+1] < count and copy[j] != slovo[i]:\n",
    "            copy[j + 2] = copy[j + 1]\n",
    "            copy[j + 1] = slovo[i]\n",
    "            number[j+2] = number[j+1]\n",
    "            number[j+1] = count\n",
    "        elif number[j+2] < count and copy[j + 1] != slovo[i]:\n",
    "            copy[j+2] = slovo[i]\n",
    "            number[j+2] = count\n",
    "\n",
    "for i in range(0, 3):\n",
    "    if number[i] != 0:\n",
    "        print(copy[i], \": \", number[i], sep=\"\", end=\"\\n\")"
   ]
  },
  {
   "cell_type": "markdown",
   "metadata": {},
   "source": [
    "# Задание 8\n",
    "\n",
    "С клавиатуры вводится дата в формате DD-MM-YYYY. Нужно вывести дату начала недели, к которой относится введенная дата (дата понедельника недели), в таком же формате. Проверить свое решение вы можете в контесте в задаче Даты."
   ]
  },
  {
   "cell_type": "code",
   "execution_count": null,
   "metadata": {},
   "outputs": [],
   "source": [
    "import datetime\n",
    "from datetime import timedelta\n",
    "\n",
    "DateInput = input().split('-')\n",
    "\n",
    "dt = datetime.datetime(int(DateInput[2]), int(DateInput[1]), int(DateInput[0]))\n",
    "\n",
    "if (dt.weekday() == 0):\n",
    "    if int(dt.month) < 10:\n",
    "        t = \"0\" + str(dt.month)\n",
    "    print(\"{}-{}-{}\".format(dt.day, t, dt.year))\n",
    "else:\n",
    "    tmp = dt - timedelta(days=dt.weekday())\n",
    "    if int(tmp.month) < 10:\n",
    "        t = \"0\" + str(tmp.month)\n",
    "    print(\"{}-{}-{}\".format(tmp.day, t, tmp.year))"
   ]
  },
  {
   "cell_type": "markdown",
   "metadata": {},
   "source": [
    "# Задание 9\n",
    "\n",
    "- Функции. Аргументы 1"
   ]
  },
  {
   "cell_type": "code",
   "execution_count": null,
   "metadata": {},
   "outputs": [],
   "source": [
    "import datetime\n",
    "\n",
    "def gift_count (budget, month, birthdays):\n",
    "    arr = {i for i in birthdays.items() if i[1].month == month}\n",
    "    arr = sorted(arr, key=lambda x: x[1].day)\n",
    "    arr = {i[0] + datetime.datetime.strftime(i[1], \" (%d.%m.%Y)\") for i in arr}\n",
    "    arr = ', '.join(arr)\n",
    "    print(f'Именинники в месяце {month}: {arr}. При бюджете {budget} они получат по {budget // len(arr)} рублей.')"
   ]
  },
  {
   "cell_type": "markdown",
   "metadata": {},
   "source": [
    "#  Задание 10\n",
    "\n",
    "- Функции. Аргументы 2"
   ]
  },
  {
   "cell_type": "code",
   "execution_count": null,
   "metadata": {},
   "outputs": [],
   "source": [
    "def lists_sum (*args, unique=False):\n",
    "    arr = []\n",
    "    for i in args:\n",
    "        arr = [*arr, *i]\n",
    "    if (unique):\n",
    "        arr = set(arr)\n",
    "    return sum(arr)"
   ]
  },
  {
   "cell_type": "markdown",
   "metadata": {},
   "source": [
    "# Задание 11\n",
    "\n",
    "- Функции. Переиспользование кода"
   ]
  },
  {
   "cell_type": "code",
   "execution_count": null,
   "metadata": {},
   "outputs": [],
   "source": [
    "def get_balance(name, transactions) -> int:\n",
    "    res = 0\n",
    "    money = {i['name']: i['amount'] for i in transactions}\n",
    "    if name in money:\n",
    "        res = money[name]\n",
    "    return res\n",
    "\n",
    "def count_debts(names, amount, transactions) -> dict:\n",
    "    res = {i : amount - get_balance(i, transactions) for i in names if amount > get_balance(i, transactions)}\n",
    "    return res"
   ]
  },
  {
   "cell_type": "markdown",
   "metadata": {},
   "source": [
    "# Задание 12\n",
    "Напишите функцию get_popular_name_from_file(filename), которая считывает файл, в котором в каждой строке записаны имя и фамилия через пробел. filename - это имя файла, в котором записаны эти имена. Вам нужно вернуть строку - самое популярное имя в файле. Если таких имен несколько, они должны быть перечислены через запятую внутри строки в алфавитном порядке. Проверить правильность решения вы можете в контесте в задании Файлы."
   ]
  },
  {
   "cell_type": "code",
   "execution_count": null,
   "metadata": {},
   "outputs": [],
   "source": [
    "import json\n",
    "import re\n",
    "\n",
    "with open(\"input.txt\") as file:\n",
    "    content = [i.split()[0] for i in file.readlines() if len(i.strip()) > 0]\n",
    "\n",
    "def get_popular_name_from_file(filename):\n",
    "    uniq = {}\n",
    "    for i in filename:\n",
    "        uniq[i] = uniq.get(i, 0) + 1\n",
    "    cnt_max = max(uniq.values())\n",
    "    res = sorted([i[0] for i in uniq.items() if i[1] == cnt_max])\n",
    "    return(', '.join(res))\n",
    "\n",
    "print(get_popular_name_from_file(content))"
   ]
  },
  {
   "cell_type": "markdown",
   "metadata": {},
   "source": [
    "# Задание 13\n",
    "Задачи, аналогичные этой, часто встречаются в реальной веб-разработке. Будем получать и отдавать JSONы. К вам поступают данные в виде json-строки, в которых содержится список людей. Для каждого человека описаны различные его параметры, но вам нужно посчитать просто средний возраст всех людей из списка. Напишите функцию mean_age(json_string), которая принимает json строку, считает средний возраст людей из входных данных и возвращает новую json-строку с посчитанным возрастом. Формат входных и выходных данных указан в контесте в задаче Парсинг JSON, проверить правильность выполнения задания вы можете там же."
   ]
  },
  {
   "cell_type": "code",
   "execution_count": null,
   "metadata": {},
   "outputs": [],
   "source": [
    "import json\n",
    "\n",
    "def mean_age(json_string):\n",
    "    st = json.loads(json_string)\n",
    "    age = sum(i.get('age') for i in st)\n",
    "    mean = age / len(st)\n",
    "    res = \"{\" + \"\\\"mean_age\\\": \" + str(mean) + \"}\"\n",
    "    return res\n",
    "\n",
    "with open('input.txt') as file:\n",
    "    content = file.read()\n",
    "\n",
    "print(mean_age(content))"
   ]
  }
 ],
 "metadata": {
  "colab": {
   "name": "topic01.ipynb",
   "provenance": []
  },
  "kernelspec": {
   "display_name": "Python 3",
   "language": "python",
   "name": "python3"
  },
  "language_info": {
   "codemirror_mode": {
    "name": "ipython",
    "version": 3
   },
   "file_extension": ".py",
   "mimetype": "text/x-python",
   "name": "python",
   "nbconvert_exporter": "python",
   "pygments_lexer": "ipython3",
   "version": "3.8.5"
  }
 },
 "nbformat": 4,
 "nbformat_minor": 1
}
