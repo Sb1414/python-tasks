{
 "cells": [
  {
   "cell_type": "markdown",
   "metadata": {},
   "source": [
    "# Jupyter Notebook"
   ]
  },
  {
   "cell_type": "markdown",
   "metadata": {},
   "source": [
    "## Задание 1\n",
    "\n",
    "Напишите скрипт, который считывает строку с клавиатуры. Выведите на экран \"привет\", если введенная строка совпадает со строкой \"привет\" или \"здравствуйте\". Правильность решения можно проверить в контесте в задаче Синтаксис. Ввод и вывод данных."
   ]
  },
  {
   "cell_type": "code",
   "execution_count": null,
   "metadata": {},
   "outputs": [],
   "source": [
    "string = str(input())\n",
    "if (string == 'привет' or\n",
    "\tstring == 'здравствуйте'):\n",
    "    print('привет')\n",
    "\n"
   ]
  },
  {
   "cell_type": "markdown",
   "metadata": {},
   "source": [
    "# Задание 2\n",
    "\n",
    "Написать скрипт, который считывает с клавиатуры числа, складывает только четные и выводит результат на экран. Правильность решения можете проверить в контесте в задаче Синтаксис. Сложение четных чисел."
   ]
  },
  {
   "cell_type": "code",
   "execution_count": null,
   "metadata": {},
   "outputs": [],
   "source": [
    "num = 0\n",
    "count = 0\n",
    "integer = 0\n",
    "\n",
    "while integer != '': \n",
    "    integer = input()\n",
    "    try:\n",
    "        if int(integer) % 2 == 0:\n",
    "            num += int(integer)\n",
    "            count+=1\n",
    "    except ValueError:\n",
    "        pass\n",
    "\n",
    "if count == 0:\n",
    "    print(0)\n",
    "else:\n",
    "    print(num)"
   ]
  },
  {
   "cell_type": "markdown",
   "metadata": {},
   "source": [
    "# Задание 3\n",
    "\n",
    "С клавиатуры вводится строка. В строке заменить пробелы звездочкой. Если встречается подряд несколько пробелов, то их следует заменить одним знаком \"*\". Пробелы в начале и конце строки удалить. Проверить правильность выполнения задания можно в контесте в задаче Строки. Замена символов."
   ]
  },
  {
   "cell_type": "code",
   "execution_count": null,
   "metadata": {},
   "outputs": [],
   "source": [
    "string = input()\n",
    "\n",
    "newString = ' '.join(string.split())\n",
    "newString = newString.replace(' ', '*')\n",
    "\n",
    "print(newString)"
   ]
  },
  {
   "cell_type": "markdown",
   "metadata": {},
   "source": [
    "## Задание 4\n",
    "\n",
    "С клавиатуры вводится строка, а затем - подстрока. В строке найти все слова, в которых содержится заданная подстрока, и вывести эти слова целиком. Если слова повторяются, вывести все повторения. Проверить правильность решения можно в контесте в задаче Строки. Поиск подстрок."
   ]
  },
  {
   "cell_type": "code",
   "execution_count": null,
   "metadata": {},
   "outputs": [],
   "source": [
    "string = input().split()\n",
    "substring = input()\n",
    "\n",
    "lowerSubstr = substring.lower()\n",
    "for word in string:\n",
    "    if lowerSubstr in word.lower():\n",
    "        print(word)"
   ]
  },
  {
   "cell_type": "markdown",
   "metadata": {},
   "source": [
    "## Задание 5\n",
    "\n",
    "С клавиатуры подается 5 чисел, разделенных концом строки. Нужно вывести их на экран от большего к меньшему, также разделяя их концом строки. Оценить правильность решения вы можете в контесте в задаче Коллекции. Списки"
   ]
  },
  {
   "cell_type": "code",
   "execution_count": null,
   "metadata": {},
   "outputs": [],
   "source": [
    "a = []\n",
    "\n",
    "for i in range(5):\n",
    "    a.append(int(input()))\n",
    "\n",
    "a.sort(reverse = True)\n",
    "\n",
    "for i in range(5):\n",
    "    print(a[i])"
   ]
  },
  {
   "cell_type": "markdown",
   "metadata": {},
   "source": [
    "## Задание 6\n",
    "\n",
    "С клавиатуры строка, содержащая произвольное количество слов через запятую и пробел. Слова могут повторяться. Нужно вывести на экран все уникальные слова в алфавитном порядке, также через пробел и запятую. Оценить правильность решения вы можете в контесте в задаче Коллекции. Множества"
   ]
  },
  {
   "cell_type": "code",
   "execution_count": null,
   "metadata": {},
   "outputs": [],
   "source": [
    "str_1 = input().split(\", \")\n",
    "sting = \"\"\n",
    "new_li = [x.lower() for x in str_1]\n",
    "my_set = set(new_li)\n",
    "sorted_set = sorted(my_set)\n",
    "for x in sorted_set:\n",
    "    sting += x + \", \"\n",
    "\n",
    "string = str(sting)\n",
    "index = len(string)\n",
    "s = string[:index-2]\n",
    "print(s)"
   ]
  },
  {
   "cell_type": "markdown",
   "metadata": {},
   "source": [
    "## Задание 7\n",
    "\n",
    "С клавиатуры вводятся слова через запятую с пробелом. Выведите на экран три наиболее часто встречаемых слова, вместе с количеством этих слов. Количество должно быть отделено от слова двоеточием и пробелом. Каждая пара слово-количество должна быть выведена на отдельной строчке. Для простоты гарантируется, что в строке нет слов с одинаковой встречаемостью. Проверить свое решение вы можете в контесте в задаче Коллекции. Словари"
   ]
  },
  {
   "cell_type": "code",
   "execution_count": null,
   "metadata": {},
   "outputs": [],
   "source": []
  }
 ],
 "metadata": {
  "colab": {
   "name": "topic01.ipynb",
   "provenance": []
  },
  "kernelspec": {
   "display_name": "Python 3",
   "language": "python",
   "name": "python3"
  },
  "language_info": {
   "codemirror_mode": {
    "name": "ipython",
    "version": 3
   },
   "file_extension": ".py",
   "mimetype": "text/x-python",
   "name": "python",
   "nbconvert_exporter": "python",
   "pygments_lexer": "ipython3",
   "version": "3.8.5"
  }
 },
 "nbformat": 4,
 "nbformat_minor": 1
}
